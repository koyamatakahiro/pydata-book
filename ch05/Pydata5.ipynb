{
 "cells": [
  {
   "cell_type": "code",
   "execution_count": 3,
   "metadata": {},
   "outputs": [
    {
     "data": {
      "text/plain": [
       "0    4\n",
       "1    7\n",
       "2   -5\n",
       "3    3\n",
       "dtype: int64"
      ]
     },
     "execution_count": 3,
     "metadata": {},
     "output_type": "execute_result"
    }
   ],
   "source": [
    "import pandas as pd\n",
    "from pandas import DataFrame, Series\n",
    "obj = Series([4, 7, -5, 3])\n",
    "obj"
   ]
  },
  {
   "cell_type": "code",
   "execution_count": 5,
   "metadata": {},
   "outputs": [
    {
     "data": {
      "text/plain": [
       "array([ 4,  7, -5,  3])"
      ]
     },
     "execution_count": 5,
     "metadata": {},
     "output_type": "execute_result"
    }
   ],
   "source": [
    "obj.values"
   ]
  },
  {
   "cell_type": "code",
   "execution_count": 6,
   "metadata": {},
   "outputs": [
    {
     "data": {
      "text/plain": [
       "RangeIndex(start=0, stop=4, step=1)"
      ]
     },
     "execution_count": 6,
     "metadata": {},
     "output_type": "execute_result"
    }
   ],
   "source": [
    "obj.index"
   ]
  },
  {
   "cell_type": "code",
   "execution_count": 9,
   "metadata": {},
   "outputs": [],
   "source": [
    "obj.index.name = 'state'"
   ]
  },
  {
   "cell_type": "code",
   "execution_count": 10,
   "metadata": {},
   "outputs": [
    {
     "data": {
      "text/plain": [
       "state\n",
       "0    4\n",
       "1    7\n",
       "2   -5\n",
       "3    3\n",
       "Name: state, dtype: int64"
      ]
     },
     "execution_count": 10,
     "metadata": {},
     "output_type": "execute_result"
    }
   ],
   "source": [
    "obj"
   ]
  },
  {
   "cell_type": "code",
   "execution_count": 14,
   "metadata": {},
   "outputs": [
    {
     "data": {
      "text/html": [
       "<div>\n",
       "<style scoped>\n",
       "    .dataframe tbody tr th:only-of-type {\n",
       "        vertical-align: middle;\n",
       "    }\n",
       "\n",
       "    .dataframe tbody tr th {\n",
       "        vertical-align: top;\n",
       "    }\n",
       "\n",
       "    .dataframe thead th {\n",
       "        text-align: right;\n",
       "    }\n",
       "</style>\n",
       "<table border=\"1\" class=\"dataframe\">\n",
       "  <thead>\n",
       "    <tr style=\"text-align: right;\">\n",
       "      <th></th>\n",
       "      <th>state</th>\n",
       "      <th>year</th>\n",
       "      <th>pop</th>\n",
       "    </tr>\n",
       "  </thead>\n",
       "  <tbody>\n",
       "    <tr>\n",
       "      <th>0</th>\n",
       "      <td>Ohio</td>\n",
       "      <td>2000</td>\n",
       "      <td>1.5</td>\n",
       "    </tr>\n",
       "    <tr>\n",
       "      <th>1</th>\n",
       "      <td>Ohio</td>\n",
       "      <td>2001</td>\n",
       "      <td>1.7</td>\n",
       "    </tr>\n",
       "    <tr>\n",
       "      <th>2</th>\n",
       "      <td>Ohio</td>\n",
       "      <td>2002</td>\n",
       "      <td>3.6</td>\n",
       "    </tr>\n",
       "    <tr>\n",
       "      <th>3</th>\n",
       "      <td>Nevada</td>\n",
       "      <td>2001</td>\n",
       "      <td>2.4</td>\n",
       "    </tr>\n",
       "    <tr>\n",
       "      <th>4</th>\n",
       "      <td>Nevada</td>\n",
       "      <td>2002</td>\n",
       "      <td>2.9</td>\n",
       "    </tr>\n",
       "  </tbody>\n",
       "</table>\n",
       "</div>"
      ],
      "text/plain": [
       "    state  year  pop\n",
       "0    Ohio  2000  1.5\n",
       "1    Ohio  2001  1.7\n",
       "2    Ohio  2002  3.6\n",
       "3  Nevada  2001  2.4\n",
       "4  Nevada  2002  2.9"
      ]
     },
     "execution_count": 14,
     "metadata": {},
     "output_type": "execute_result"
    }
   ],
   "source": [
    "data = {\n",
    "    'state' : ['Ohio', 'Ohio', 'Ohio', 'Nevada', 'Nevada'],\n",
    "    'year' : [2000, 2001, 2002, 2001, 2002],\n",
    "    'pop' : [1.5, 1.7, 3.6, 2.4, 2.9]\n",
    "}\n",
    "frame = DataFrame(data)\n",
    "frame"
   ]
  },
  {
   "cell_type": "code",
   "execution_count": 18,
   "metadata": {},
   "outputs": [],
   "source": [
    "frame['eastern'] = frame.state == 'Ohio'"
   ]
  },
  {
   "cell_type": "code",
   "execution_count": 19,
   "metadata": {},
   "outputs": [
    {
     "data": {
      "text/html": [
       "<div>\n",
       "<style scoped>\n",
       "    .dataframe tbody tr th:only-of-type {\n",
       "        vertical-align: middle;\n",
       "    }\n",
       "\n",
       "    .dataframe tbody tr th {\n",
       "        vertical-align: top;\n",
       "    }\n",
       "\n",
       "    .dataframe thead th {\n",
       "        text-align: right;\n",
       "    }\n",
       "</style>\n",
       "<table border=\"1\" class=\"dataframe\">\n",
       "  <thead>\n",
       "    <tr style=\"text-align: right;\">\n",
       "      <th></th>\n",
       "      <th>state</th>\n",
       "      <th>year</th>\n",
       "      <th>pop</th>\n",
       "      <th>eastern</th>\n",
       "    </tr>\n",
       "  </thead>\n",
       "  <tbody>\n",
       "    <tr>\n",
       "      <th>0</th>\n",
       "      <td>Ohio</td>\n",
       "      <td>2000</td>\n",
       "      <td>1.5</td>\n",
       "      <td>True</td>\n",
       "    </tr>\n",
       "    <tr>\n",
       "      <th>1</th>\n",
       "      <td>Ohio</td>\n",
       "      <td>2001</td>\n",
       "      <td>1.7</td>\n",
       "      <td>True</td>\n",
       "    </tr>\n",
       "    <tr>\n",
       "      <th>2</th>\n",
       "      <td>Ohio</td>\n",
       "      <td>2002</td>\n",
       "      <td>3.6</td>\n",
       "      <td>True</td>\n",
       "    </tr>\n",
       "    <tr>\n",
       "      <th>3</th>\n",
       "      <td>Nevada</td>\n",
       "      <td>2001</td>\n",
       "      <td>2.4</td>\n",
       "      <td>False</td>\n",
       "    </tr>\n",
       "    <tr>\n",
       "      <th>4</th>\n",
       "      <td>Nevada</td>\n",
       "      <td>2002</td>\n",
       "      <td>2.9</td>\n",
       "      <td>False</td>\n",
       "    </tr>\n",
       "  </tbody>\n",
       "</table>\n",
       "</div>"
      ],
      "text/plain": [
       "    state  year  pop  eastern\n",
       "0    Ohio  2000  1.5     True\n",
       "1    Ohio  2001  1.7     True\n",
       "2    Ohio  2002  3.6     True\n",
       "3  Nevada  2001  2.4    False\n",
       "4  Nevada  2002  2.9    False"
      ]
     },
     "execution_count": 19,
     "metadata": {},
     "output_type": "execute_result"
    }
   ],
   "source": [
    "frame"
   ]
  },
  {
   "cell_type": "code",
   "execution_count": 20,
   "metadata": {},
   "outputs": [],
   "source": [
    "del frame['eastern']"
   ]
  },
  {
   "cell_type": "code",
   "execution_count": 22,
   "metadata": {},
   "outputs": [
    {
     "data": {
      "text/plain": [
       "Index(['state', 'year', 'pop'], dtype='object')"
      ]
     },
     "execution_count": 22,
     "metadata": {},
     "output_type": "execute_result"
    }
   ],
   "source": [
    "frame.columns"
   ]
  },
  {
   "cell_type": "code",
   "execution_count": 25,
   "metadata": {},
   "outputs": [],
   "source": [
    "obj = Series(range(3), index=['a', 'b', 'c'])"
   ]
  },
  {
   "cell_type": "code",
   "execution_count": 26,
   "metadata": {},
   "outputs": [
    {
     "data": {
      "text/plain": [
       "a    0\n",
       "b    1\n",
       "c    2\n",
       "dtype: int64"
      ]
     },
     "execution_count": 26,
     "metadata": {},
     "output_type": "execute_result"
    }
   ],
   "source": [
    "obj"
   ]
  },
  {
   "cell_type": "markdown",
   "metadata": {},
   "source": [
    "# 5.2\n"
   ]
  },
  {
   "cell_type": "code",
   "execution_count": 28,
   "metadata": {},
   "outputs": [],
   "source": [
    "obj = Series([4.2, 7.2, -5.3, 3.6], index = ['d', 'b', 'a', 'c'])"
   ]
  },
  {
   "cell_type": "code",
   "execution_count": 30,
   "metadata": {},
   "outputs": [
    {
     "data": {
      "text/plain": [
       "a   -5.3\n",
       "b    7.2\n",
       "c    3.6\n",
       "d    4.2\n",
       "e    NaN\n",
       "dtype: float64"
      ]
     },
     "execution_count": 30,
     "metadata": {},
     "output_type": "execute_result"
    }
   ],
   "source": [
    "obj.reindex(['a', 'b', 'c', 'd', 'e'])"
   ]
  },
  {
   "cell_type": "code",
   "execution_count": 33,
   "metadata": {},
   "outputs": [],
   "source": [
    "import numpy as np"
   ]
  },
  {
   "cell_type": "code",
   "execution_count": 34,
   "metadata": {},
   "outputs": [],
   "source": [
    "frame = DataFrame(np.arange(8).reshape((2, 4)), index = ['three', 'dour'],\n",
    "                  columns = ['d', 'a', 'b', 'c'])"
   ]
  },
  {
   "cell_type": "code",
   "execution_count": 40,
   "metadata": {},
   "outputs": [
    {
     "data": {
      "text/html": [
       "<div>\n",
       "<style scoped>\n",
       "    .dataframe tbody tr th:only-of-type {\n",
       "        vertical-align: middle;\n",
       "    }\n",
       "\n",
       "    .dataframe tbody tr th {\n",
       "        vertical-align: top;\n",
       "    }\n",
       "\n",
       "    .dataframe thead th {\n",
       "        text-align: right;\n",
       "    }\n",
       "</style>\n",
       "<table border=\"1\" class=\"dataframe\">\n",
       "  <thead>\n",
       "    <tr style=\"text-align: right;\">\n",
       "      <th></th>\n",
       "      <th>d</th>\n",
       "      <th>c</th>\n",
       "      <th>b</th>\n",
       "      <th>a</th>\n",
       "    </tr>\n",
       "  </thead>\n",
       "  <tbody>\n",
       "    <tr>\n",
       "      <th>three</th>\n",
       "      <td>0</td>\n",
       "      <td>3</td>\n",
       "      <td>2</td>\n",
       "      <td>1</td>\n",
       "    </tr>\n",
       "    <tr>\n",
       "      <th>dour</th>\n",
       "      <td>4</td>\n",
       "      <td>7</td>\n",
       "      <td>6</td>\n",
       "      <td>5</td>\n",
       "    </tr>\n",
       "  </tbody>\n",
       "</table>\n",
       "</div>"
      ],
      "text/plain": [
       "       d  c  b  a\n",
       "three  0  3  2  1\n",
       "dour   4  7  6  5"
      ]
     },
     "execution_count": 40,
     "metadata": {},
     "output_type": "execute_result"
    }
   ],
   "source": [
    "frame.sort_index(axis=1, ascending=False)"
   ]
  },
  {
   "cell_type": "code",
   "execution_count": 44,
   "metadata": {},
   "outputs": [
    {
     "data": {
      "text/plain": [
       "3   -3.0\n",
       "4    2.0\n",
       "0    4.0\n",
       "1    7.0\n",
       "2    NaN\n",
       "dtype: float64"
      ]
     },
     "execution_count": 44,
     "metadata": {},
     "output_type": "execute_result"
    }
   ],
   "source": [
    "obj = Series([4, 7, np.nan, -3, 2])\n",
    "obj.sort_values()"
   ]
  },
  {
   "cell_type": "code",
   "execution_count": 50,
   "metadata": {},
   "outputs": [],
   "source": [
    "frame = DataFrame({'b': [4, -3, 7, 2], 'a':[0, 1, 1, 0]})"
   ]
  },
  {
   "cell_type": "code",
   "execution_count": 54,
   "metadata": {},
   "outputs": [
    {
     "name": "stderr",
     "output_type": "stream",
     "text": [
      "/home/kimoton/.pyenv/versions/3.6.5/lib/python3.6/site-packages/ipykernel_launcher.py:1: FutureWarning: by argument to sort_index is deprecated, please use .sort_values(by=...)\n",
      "  \"\"\"Entry point for launching an IPython kernel.\n"
     ]
    },
    {
     "data": {
      "text/html": [
       "<div>\n",
       "<style scoped>\n",
       "    .dataframe tbody tr th:only-of-type {\n",
       "        vertical-align: middle;\n",
       "    }\n",
       "\n",
       "    .dataframe tbody tr th {\n",
       "        vertical-align: top;\n",
       "    }\n",
       "\n",
       "    .dataframe thead th {\n",
       "        text-align: right;\n",
       "    }\n",
       "</style>\n",
       "<table border=\"1\" class=\"dataframe\">\n",
       "  <thead>\n",
       "    <tr style=\"text-align: right;\">\n",
       "      <th></th>\n",
       "      <th>b</th>\n",
       "      <th>a</th>\n",
       "    </tr>\n",
       "  </thead>\n",
       "  <tbody>\n",
       "    <tr>\n",
       "      <th>3</th>\n",
       "      <td>2</td>\n",
       "      <td>0</td>\n",
       "    </tr>\n",
       "    <tr>\n",
       "      <th>0</th>\n",
       "      <td>4</td>\n",
       "      <td>0</td>\n",
       "    </tr>\n",
       "    <tr>\n",
       "      <th>1</th>\n",
       "      <td>-3</td>\n",
       "      <td>1</td>\n",
       "    </tr>\n",
       "    <tr>\n",
       "      <th>2</th>\n",
       "      <td>7</td>\n",
       "      <td>1</td>\n",
       "    </tr>\n",
       "  </tbody>\n",
       "</table>\n",
       "</div>"
      ],
      "text/plain": [
       "   b  a\n",
       "3  2  0\n",
       "0  4  0\n",
       "1 -3  1\n",
       "2  7  1"
      ]
     },
     "execution_count": 54,
     "metadata": {},
     "output_type": "execute_result"
    }
   ],
   "source": [
    "frame.sort_index(by=['a', 'b'])"
   ]
  },
  {
   "cell_type": "code",
   "execution_count": 55,
   "metadata": {},
   "outputs": [
    {
     "data": {
      "text/plain": [
       "0    4.0\n",
       "1    7.0\n",
       "2    NaN\n",
       "3   -3.0\n",
       "4    2.0\n",
       "dtype: float64"
      ]
     },
     "execution_count": 55,
     "metadata": {},
     "output_type": "execute_result"
    }
   ],
   "source": [
    "obj"
   ]
  },
  {
   "cell_type": "code",
   "execution_count": 58,
   "metadata": {},
   "outputs": [
    {
     "data": {
      "text/plain": [
       "0    3.0\n",
       "1    4.0\n",
       "2    NaN\n",
       "3    1.0\n",
       "4    2.0\n",
       "dtype: float64"
      ]
     },
     "execution_count": 58,
     "metadata": {},
     "output_type": "execute_result"
    }
   ],
   "source": [
    "obj.rank(method='max')"
   ]
  },
  {
   "cell_type": "markdown",
   "metadata": {},
   "source": [
    "# 5.3"
   ]
  },
  {
   "cell_type": "code",
   "execution_count": 60,
   "metadata": {},
   "outputs": [],
   "source": [
    "df = DataFrame([[1.4, np.nan], [7.1, -4.5], [np.nan, np.nan], [0.75, -1.3]], index= ['a', 'b', 'c', 'd'], columns= ['one', 'two'])"
   ]
  },
  {
   "cell_type": "code",
   "execution_count": 62,
   "metadata": {},
   "outputs": [
    {
     "data": {
      "text/plain": [
       "one    9.25\n",
       "two   -5.80\n",
       "dtype: float64"
      ]
     },
     "execution_count": 62,
     "metadata": {},
     "output_type": "execute_result"
    }
   ],
   "source": [
    "df.sum()"
   ]
  },
  {
   "cell_type": "code",
   "execution_count": 66,
   "metadata": {},
   "outputs": [
    {
     "data": {
      "text/html": [
       "<div>\n",
       "<style scoped>\n",
       "    .dataframe tbody tr th:only-of-type {\n",
       "        vertical-align: middle;\n",
       "    }\n",
       "\n",
       "    .dataframe tbody tr th {\n",
       "        vertical-align: top;\n",
       "    }\n",
       "\n",
       "    .dataframe thead th {\n",
       "        text-align: right;\n",
       "    }\n",
       "</style>\n",
       "<table border=\"1\" class=\"dataframe\">\n",
       "  <thead>\n",
       "    <tr style=\"text-align: right;\">\n",
       "      <th></th>\n",
       "      <th>one</th>\n",
       "      <th>two</th>\n",
       "    </tr>\n",
       "  </thead>\n",
       "  <tbody>\n",
       "    <tr>\n",
       "      <th>a</th>\n",
       "      <td>1.40</td>\n",
       "      <td>NaN</td>\n",
       "    </tr>\n",
       "    <tr>\n",
       "      <th>b</th>\n",
       "      <td>8.50</td>\n",
       "      <td>-4.5</td>\n",
       "    </tr>\n",
       "    <tr>\n",
       "      <th>c</th>\n",
       "      <td>NaN</td>\n",
       "      <td>NaN</td>\n",
       "    </tr>\n",
       "    <tr>\n",
       "      <th>d</th>\n",
       "      <td>9.25</td>\n",
       "      <td>-5.8</td>\n",
       "    </tr>\n",
       "  </tbody>\n",
       "</table>\n",
       "</div>"
      ],
      "text/plain": [
       "    one  two\n",
       "a  1.40  NaN\n",
       "b  8.50 -4.5\n",
       "c   NaN  NaN\n",
       "d  9.25 -5.8"
      ]
     },
     "execution_count": 66,
     "metadata": {},
     "output_type": "execute_result"
    }
   ],
   "source": [
    "df.cumsum()"
   ]
  },
  {
   "cell_type": "code",
   "execution_count": 70,
   "metadata": {},
   "outputs": [
    {
     "data": {
      "text/plain": [
       "a    1.400\n",
       "b    1.300\n",
       "c      NaN\n",
       "d   -0.275\n",
       "dtype: float64"
      ]
     },
     "execution_count": 70,
     "metadata": {},
     "output_type": "execute_result"
    }
   ],
   "source": [
    "df.mean(axis=1, skipna=True)"
   ]
  },
  {
   "cell_type": "code",
   "execution_count": 71,
   "metadata": {},
   "outputs": [
    {
     "data": {
      "text/html": [
       "<div>\n",
       "<style scoped>\n",
       "    .dataframe tbody tr th:only-of-type {\n",
       "        vertical-align: middle;\n",
       "    }\n",
       "\n",
       "    .dataframe tbody tr th {\n",
       "        vertical-align: top;\n",
       "    }\n",
       "\n",
       "    .dataframe thead th {\n",
       "        text-align: right;\n",
       "    }\n",
       "</style>\n",
       "<table border=\"1\" class=\"dataframe\">\n",
       "  <thead>\n",
       "    <tr style=\"text-align: right;\">\n",
       "      <th></th>\n",
       "      <th>one</th>\n",
       "      <th>two</th>\n",
       "    </tr>\n",
       "  </thead>\n",
       "  <tbody>\n",
       "    <tr>\n",
       "      <th>count</th>\n",
       "      <td>3.000000</td>\n",
       "      <td>2.000000</td>\n",
       "    </tr>\n",
       "    <tr>\n",
       "      <th>mean</th>\n",
       "      <td>3.083333</td>\n",
       "      <td>-2.900000</td>\n",
       "    </tr>\n",
       "    <tr>\n",
       "      <th>std</th>\n",
       "      <td>3.493685</td>\n",
       "      <td>2.262742</td>\n",
       "    </tr>\n",
       "    <tr>\n",
       "      <th>min</th>\n",
       "      <td>0.750000</td>\n",
       "      <td>-4.500000</td>\n",
       "    </tr>\n",
       "    <tr>\n",
       "      <th>25%</th>\n",
       "      <td>1.075000</td>\n",
       "      <td>-3.700000</td>\n",
       "    </tr>\n",
       "    <tr>\n",
       "      <th>50%</th>\n",
       "      <td>1.400000</td>\n",
       "      <td>-2.900000</td>\n",
       "    </tr>\n",
       "    <tr>\n",
       "      <th>75%</th>\n",
       "      <td>4.250000</td>\n",
       "      <td>-2.100000</td>\n",
       "    </tr>\n",
       "    <tr>\n",
       "      <th>max</th>\n",
       "      <td>7.100000</td>\n",
       "      <td>-1.300000</td>\n",
       "    </tr>\n",
       "  </tbody>\n",
       "</table>\n",
       "</div>"
      ],
      "text/plain": [
       "            one       two\n",
       "count  3.000000  2.000000\n",
       "mean   3.083333 -2.900000\n",
       "std    3.493685  2.262742\n",
       "min    0.750000 -4.500000\n",
       "25%    1.075000 -3.700000\n",
       "50%    1.400000 -2.900000\n",
       "75%    4.250000 -2.100000\n",
       "max    7.100000 -1.300000"
      ]
     },
     "execution_count": 71,
     "metadata": {},
     "output_type": "execute_result"
    }
   ],
   "source": [
    "df.describe()"
   ]
  },
  {
   "cell_type": "code",
   "execution_count": 77,
   "metadata": {},
   "outputs": [
    {
     "name": "stdout",
     "output_type": "stream",
     "text": [
      "Collecting pandas_datareader\n",
      "\u001b[?25l  Downloading https://files.pythonhosted.org/packages/cc/5c/ea5b6dcfd0f55c5fb1e37fb45335ec01cceca199b8a79339137f5ed269e0/pandas_datareader-0.7.0-py2.py3-none-any.whl (111kB)\n",
      "\u001b[K    100% |████████████████████████████████| 112kB 1.8MB/s ta 0:00:01\n",
      "\u001b[?25hRequirement already satisfied: lxml in /home/kimoton/.pyenv/versions/3.6.5/lib/python3.6/site-packages (from pandas_datareader) (4.2.2)\n",
      "Requirement already satisfied: pandas>=0.19.2 in /home/kimoton/.pyenv/versions/3.6.5/lib/python3.6/site-packages (from pandas_datareader) (0.23.3)\n",
      "Requirement already satisfied: requests>=2.3.0 in /home/kimoton/.pyenv/versions/3.6.5/lib/python3.6/site-packages (from pandas_datareader) (2.3.0)\n",
      "Requirement already satisfied: wrapt in /home/kimoton/.pyenv/versions/3.6.5/lib/python3.6/site-packages (from pandas_datareader) (1.10.11)\n",
      "Requirement already satisfied: numpy>=1.9.0 in /home/kimoton/.pyenv/versions/3.6.5/lib/python3.6/site-packages (from pandas>=0.19.2->pandas_datareader) (1.15.0)\n",
      "Requirement already satisfied: python-dateutil>=2.5.0 in /home/kimoton/.pyenv/versions/3.6.5/lib/python3.6/site-packages (from pandas>=0.19.2->pandas_datareader) (2.7.3)\n",
      "Requirement already satisfied: pytz>=2011k in /home/kimoton/.pyenv/versions/3.6.5/lib/python3.6/site-packages (from pandas>=0.19.2->pandas_datareader) (2018.5)\n",
      "Requirement already satisfied: six>=1.5 in /home/kimoton/.pyenv/versions/3.6.5/lib/python3.6/site-packages (from python-dateutil>=2.5.0->pandas>=0.19.2->pandas_datareader) (1.11.0)\n",
      "Installing collected packages: pandas-datareader\n",
      "Successfully installed pandas-datareader-0.7.0\n",
      "\u001b[33mYou are using pip version 18.0, however version 18.1 is available.\n",
      "You should consider upgrading via the 'pip install --upgrade pip' command.\u001b[0m\n"
     ]
    }
   ],
   "source": [
    "!pip install pandas_datareader"
   ]
  },
  {
   "cell_type": "code",
   "execution_count": 80,
   "metadata": {},
   "outputs": [],
   "source": [
    "import pandas_datareader.data as web\n",
    "\n",
    "all_data = {}\n",
    "for ticker in  ['AAPL', 'IBM', 'MSFT', 'GOOG']:\n",
    "    all_data[ticker] = web.get_data_yahoo(ticker, '1/1/2000', '1/1/2010')\n",
    "price = DataFrame({tic: data['Adj Close']\n",
    "                  for tic, data in all_data.items()})\n",
    "volume = DataFrame({tic: data['Volume']\n",
    "                   for tic, data in all_data.items()})"
   ]
  },
  {
   "cell_type": "code",
   "execution_count": 81,
   "metadata": {},
   "outputs": [
    {
     "data": {
      "text/plain": [
       "{'AAPL':                  High        Low       Open      Close       Volume  Adj Close\n",
       " Date                                                                          \n",
       " 1999-12-31   3.674107   3.553571   3.604911   3.671875   40952800.0   2.467498\n",
       " 2000-01-03   4.017857   3.631696   3.745536   3.997768  133949200.0   2.686497\n",
       " 2000-01-04   3.950893   3.613839   3.866071   3.660714  128094400.0   2.459998\n",
       " 2000-01-05   3.948661   3.678571   3.705357   3.714286  194580400.0   2.495997\n",
       " 2000-01-06   3.821429   3.392857   3.790179   3.392857  191993200.0   2.279998\n",
       " 2000-01-07   3.607143   3.410714   3.446429   3.553571  115183600.0   2.387998\n",
       " 2000-01-10   3.651786   3.383929   3.642857   3.491071  126266000.0   2.345998\n",
       " 2000-01-11   3.549107   3.232143   3.426339   3.312500  110387200.0   2.225998\n",
       " 2000-01-12   3.410714   3.089286   3.392857   3.113839  244017200.0   2.092498\n",
       " 2000-01-13   3.526786   3.303571   3.374439   3.455357  258171200.0   2.321998\n",
       " 2000-01-14   3.651786   3.549107   3.571429   3.587054   97594000.0   2.410497\n",
       " 2000-01-18   3.785714   3.587054   3.607143   3.712054  114794400.0   2.494497\n",
       " 2000-01-19   3.883929   3.691964   3.772321   3.805804  149410800.0   2.557498\n",
       " 2000-01-20   4.339286   4.053571   4.125000   4.053571  457783200.0   2.723998\n",
       " 2000-01-21   4.080357   3.935268   4.080357   3.975446  123981200.0   2.671498\n",
       " 2000-01-24   4.026786   3.754464   3.872768   3.794643  110219200.0   2.549998\n",
       " 2000-01-25   4.040179   3.656250   3.750000   4.008929  124286400.0   2.693998\n",
       " 2000-01-26   4.078125   3.919643   3.928571   3.935268   91789600.0   2.644498\n",
       " 2000-01-27   4.035714   3.821429   3.886161   3.928571   85036000.0   2.639997\n",
       " 2000-01-28   3.959821   3.593750   3.863839   3.629464  105837200.0   2.438998\n",
       " 2000-01-31   3.709821   3.375000   3.607143   3.705357  175420000.0   2.489997\n",
       " 2000-02-01   3.750000   3.571429   3.714286   3.580357   79508800.0   2.405998\n",
       " 2000-02-02   3.647321   3.464286   3.598214   3.529018  116048800.0   2.371498\n",
       " 2000-02-03   3.723214   3.580357   3.582589   3.689732  118798400.0   2.479497\n",
       " 2000-02-04   3.928571   3.700893   3.712054   3.857143  106330000.0   2.591997\n",
       " 2000-02-07   4.080357   3.783482   3.857143   4.073661  110266800.0   2.737498\n",
       " 2000-02-08   4.147321   3.973214   4.071429   4.102679  102160800.0   2.756998\n",
       " 2000-02-09   4.183036   4.015625   4.075893   4.022321   74841200.0   2.702997\n",
       " 2000-02-10   4.066964   3.928571   4.031250   4.053571   75745600.0   2.723998\n",
       " 2000-02-11   4.075893   3.866071   4.058036   3.883929   53062800.0   2.609998\n",
       " ...               ...        ...        ...        ...          ...        ...\n",
       " 2009-11-18  29.571428  29.142857  29.505714  29.422857   93580200.0  19.772139\n",
       " 2009-11-19  29.230000  28.542856  29.230000  28.644285  135581600.0  19.248940\n",
       " 2009-11-20  28.627142  28.251429  28.450001  28.559999  101666600.0  19.192299\n",
       " 2009-11-23  29.428572  28.992857  29.000000  29.411428  118724200.0  19.764460\n",
       " 2009-11-24  29.411428  28.985714  29.332857  29.205715   79609600.0  19.626223\n",
       " 2009-11-25  29.378571  29.108572  29.342857  29.170000   71613500.0  19.602222\n",
       " 2009-11-27  28.994286  28.338572  28.459999  28.655714   73814300.0  19.256622\n",
       " 2009-11-30  28.811428  28.395714  28.730000  28.558571  106214500.0  19.191339\n",
       " 2009-12-01  28.967142  28.118572  28.891428  28.138571  116440800.0  18.909100\n",
       " 2009-12-02  28.774286  27.964285  28.422857  28.032858  178815000.0  18.838060\n",
       " 2009-12-03  28.425714  28.038572  28.202858  28.068571  112179900.0  18.862062\n",
       " 2009-12-04  28.554285  27.182858  28.528572  27.617144  206721200.0  18.558701\n",
       " 2009-12-07  27.681429  26.954287  27.617144  26.992857  178689700.0  18.139185\n",
       " 2009-12-08  27.478571  26.957144  27.051428  27.124287  172599700.0  18.227499\n",
       " 2009-12-09  28.308571  27.187143  27.325714  28.257143  171195500.0  18.988783\n",
       " 2009-12-10  28.528572  28.017143  28.500000  28.061428  122417400.0  18.857262\n",
       " 2009-12-11  28.285715  27.632856  28.254286  27.809999  107443700.0  18.688299\n",
       " 2009-12-14  28.204287  27.508572  27.910000  28.139999  123947600.0  18.910061\n",
       " 2009-12-15  28.215714  27.610001  27.975714  27.738571  104864900.0  18.640306\n",
       " 2009-12-16  28.071428  27.792856  27.871429  27.861429   88246200.0  18.722862\n",
       " 2009-12-17  27.857143  27.285715  27.751429  27.408571   97209700.0  18.418543\n",
       " 2009-12-18  27.928572  27.514286  27.595715  27.918571  152192600.0  18.761261\n",
       " 2009-12-21  28.535715  27.952858  28.007143  28.318571  152976600.0  19.030060\n",
       " 2009-12-22  28.692858  28.379999  28.491428  28.622858   87378900.0  19.234541\n",
       " 2009-12-23  28.911428  28.687143  28.742857  28.871429   86381400.0  19.401581\n",
       " 2009-12-24  29.907143  29.049999  29.078571  29.862858  125222300.0  20.067825\n",
       " 2009-12-28  30.564285  29.944286  30.245714  30.230000  161141400.0  20.314537\n",
       " 2009-12-29  30.388571  29.818571  30.375713  29.871429  111301400.0  20.073582\n",
       " 2009-12-30  30.285715  29.758572  29.832857  30.234285  103021100.0  20.317423\n",
       " 2009-12-31  30.478571  30.080000  30.447144  30.104286   88102700.0  20.230061\n",
       " \n",
       " [2516 rows x 6 columns],\n",
       " 'GOOG':                   High         Low        Open       Close    Volume  \\\n",
       " Date                                                                   \n",
       " 2004-08-19   51.693783   47.669952   49.676899   49.845802  44994500   \n",
       " 2004-08-20   54.187561   49.925285   50.178635   53.805050  23005800   \n",
       " 2004-08-23   56.373344   54.172661   55.017166   54.346527  18393200   \n",
       " 2004-08-24   55.439419   51.450363   55.260582   52.096165  15361800   \n",
       " 2004-08-25   53.651051   51.604362   52.140873   52.657513   9257400   \n",
       " 2004-08-26   53.626213   51.991844   52.135906   53.606342   7148200   \n",
       " 2004-08-27   53.959049   52.503513   53.700729   52.732029   6258300   \n",
       " 2004-08-30   52.404160   50.675404   52.299839   50.675404   5235700   \n",
       " 2004-08-31   51.519913   50.749920   50.819469   50.854240   4954800   \n",
       " 2004-09-01   51.152302   49.512966   51.018177   49.801090   9206800   \n",
       " 2004-09-02   50.854240   49.150326   49.274517   50.427021  15232100   \n",
       " 2004-09-03   50.541279   49.339096   50.148830   49.681866   5191000   \n",
       " 2004-09-07   50.670437   49.483158   50.178635   50.461796   5891300   \n",
       " 2004-09-08   51.182110   49.925285   50.044510   50.819469   5023000   \n",
       " 2004-09-09   51.023144   50.173668   50.933723   50.824436   4092100   \n",
       " 2004-09-10   52.935703   50.322701   50.471729   52.324677   8764200   \n",
       " 2004-09-13   53.854729   52.886028   52.970478   53.402668   7902900   \n",
       " 2004-09-14   55.638126   53.049961   53.377831   55.384777  10910200   \n",
       " 2004-09-15   56.745922   54.743942   54.922779   55.638126  10793500   \n",
       " 2004-09-16   57.525848   55.464260   55.807030   56.616764   9335800   \n",
       " 2004-09-17   58.365391   56.408119   56.840309   58.365391   9543500   \n",
       " 2004-09-20   60.407108   58.007717   58.097134   59.294346  10708500   \n",
       " 2004-09-21   59.820923   58.375324   59.517895   58.539257   7282900   \n",
       " 2004-09-22   59.448345   58.027588   58.320679   58.807514   7638000   \n",
       " 2004-09-23   60.918781   58.131908   59.036026   60.019630   8599600   \n",
       " 2004-09-24   61.649033   59.493053   60.079243   59.527828   9191900   \n",
       " 2004-09-27   60.049435   58.519386   59.393700   58.747902   7119100   \n",
       " 2004-09-28   63.288372   59.716602   60.258080   63.020115  17056100   \n",
       " 2004-09-29   67.073753   62.707150   62.940632   65.116478  30745600   \n",
       " 2004-09-30   65.722542   64.083199   64.530296   64.381264  13861300   \n",
       " ...                ...         ...         ...         ...       ...   \n",
       " 2009-11-18  287.519958  284.186646  286.461853  286.461853   3119200   \n",
       " 2009-11-19  285.145416  283.158325  285.031158  284.643677   4364100   \n",
       " 2009-11-20  283.953156  282.860260  282.909943  283.138458   4038500   \n",
       " 2009-11-23  291.404694  286.069397  286.382355  289.293427   5128000   \n",
       " 2009-11-24  290.257172  286.407196  289.377869  289.661041   3231200   \n",
       " 2009-11-25  291.633209  289.462341  291.310303  290.977478   2941400   \n",
       " 2009-11-27  289.348083  283.640198  284.151855  288.006805   2787100   \n",
       " 2009-11-30  289.949158  286.690369  288.438995  289.616333   3472500   \n",
       " 2009-12-01  293.699768  289.616333  292.164764  293.029114   4670700   \n",
       " 2009-12-02  294.588989  291.215912  293.590485  291.856750   3348000   \n",
       " 2009-12-03  293.814026  290.609863  292.616821  290.977478   2875900   \n",
       " 2009-12-04  295.493103  287.718658  294.593964  290.614838   5059900   \n",
       " 2009-12-07  292.442932  288.622772  290.217407  291.230835   3293500   \n",
       " 2009-12-08  293.421570  289.119568  289.864716  291.628235   3067700   \n",
       " 2009-12-09  292.760864  289.904449  291.851776  292.606873   3585000   \n",
       " 2009-12-10  295.433502  293.297394  293.312286  293.838867   3358200   \n",
       " 2009-12-11  295.453369  291.966034  295.418579  293.347046   3462300   \n",
       " 2009-12-14  296.725098  294.390289  295.751434  295.940186   3851600   \n",
       " 2009-12-15  296.263092  293.585510  294.733032  294.653564   4590400   \n",
       " 2009-12-16  298.245209  296.392242  297.365936  296.948639   5655300   \n",
       " 2009-12-17  296.889038  294.961548  296.292908  295.050964   5311800   \n",
       " 2009-12-18  297.529846  295.577545  296.089233  296.282959   7108900   \n",
       " 2009-12-21  297.981903  295.910400  296.874115  297.405670   5175800   \n",
       " 2009-12-22  298.806549  297.490112  298.727081  298.617767   3786000   \n",
       " 2009-12-23  304.454803  299.477203  299.800079  303.863647   4172200   \n",
       " 2009-12-24  307.758331  304.156738  304.484619  307.241699   1728500   \n",
       " 2009-12-28  310.972412  307.241699  308.821411  309.422516   3417800   \n",
       " 2009-12-29  310.401154  307.147308  310.351471  307.698730   2868100   \n",
       " 2009-12-30  309.352966  307.008209  307.251617  309.352966   2950200   \n",
       " 2009-12-31  310.679321  307.986847  310.356445  307.986847   2455400   \n",
       " \n",
       "              Adj Close  \n",
       " Date                    \n",
       " 2004-08-19   49.845802  \n",
       " 2004-08-20   53.805050  \n",
       " 2004-08-23   54.346527  \n",
       " 2004-08-24   52.096165  \n",
       " 2004-08-25   52.657513  \n",
       " 2004-08-26   53.606342  \n",
       " 2004-08-27   52.732029  \n",
       " 2004-08-30   50.675404  \n",
       " 2004-08-31   50.854240  \n",
       " 2004-09-01   49.801090  \n",
       " 2004-09-02   50.427021  \n",
       " 2004-09-03   49.681866  \n",
       " 2004-09-07   50.461796  \n",
       " 2004-09-08   50.819469  \n",
       " 2004-09-09   50.824436  \n",
       " 2004-09-10   52.324677  \n",
       " 2004-09-13   53.402668  \n",
       " 2004-09-14   55.384777  \n",
       " 2004-09-15   55.638126  \n",
       " 2004-09-16   56.616764  \n",
       " 2004-09-17   58.365391  \n",
       " 2004-09-20   59.294346  \n",
       " 2004-09-21   58.539257  \n",
       " 2004-09-22   58.807514  \n",
       " 2004-09-23   60.019630  \n",
       " 2004-09-24   59.527828  \n",
       " 2004-09-27   58.747902  \n",
       " 2004-09-28   63.020115  \n",
       " 2004-09-29   65.116478  \n",
       " 2004-09-30   64.381264  \n",
       " ...                ...  \n",
       " 2009-11-18  286.461853  \n",
       " 2009-11-19  284.643677  \n",
       " 2009-11-20  283.138458  \n",
       " 2009-11-23  289.293427  \n",
       " 2009-11-24  289.661041  \n",
       " 2009-11-25  290.977478  \n",
       " 2009-11-27  288.006805  \n",
       " 2009-11-30  289.616333  \n",
       " 2009-12-01  293.029114  \n",
       " 2009-12-02  291.856750  \n",
       " 2009-12-03  290.977478  \n",
       " 2009-12-04  290.614838  \n",
       " 2009-12-07  291.230835  \n",
       " 2009-12-08  291.628235  \n",
       " 2009-12-09  292.606873  \n",
       " 2009-12-10  293.838867  \n",
       " 2009-12-11  293.347046  \n",
       " 2009-12-14  295.940186  \n",
       " 2009-12-15  294.653564  \n",
       " 2009-12-16  296.948639  \n",
       " 2009-12-17  295.050964  \n",
       " 2009-12-18  296.282959  \n",
       " 2009-12-21  297.405670  \n",
       " 2009-12-22  298.617767  \n",
       " 2009-12-23  303.863647  \n",
       " 2009-12-24  307.241699  \n",
       " 2009-12-28  309.422516  \n",
       " 2009-12-29  307.698730  \n",
       " 2009-12-30  309.352966  \n",
       " 2009-12-31  307.986847  \n",
       " \n",
       " [1353 rows x 6 columns],\n",
       " 'IBM':                   High         Low        Open       Close      Volume  \\\n",
       " Date                                                                     \n",
       " 1999-12-31  109.500000  106.625000  109.187500  107.875000   2870300.0   \n",
       " 2000-01-03  116.000000  111.875000  112.437500  116.000000  10347700.0   \n",
       " 2000-01-04  114.500000  110.875000  114.000000  112.062500   8227800.0   \n",
       " 2000-01-05  119.750000  112.125000  112.937500  116.000000  12733200.0   \n",
       " 2000-01-06  118.937500  113.500000  118.000000  114.000000   7971900.0   \n",
       " 2000-01-07  117.937500  110.625000  117.250000  113.500000  11856700.0   \n",
       " 2000-01-10  119.375000  115.375000  117.250000  118.000000   8540500.0   \n",
       " 2000-01-11  121.125000  116.625000  117.875000  119.000000   7873300.0   \n",
       " 2000-01-12  122.000000  118.250000  119.625000  119.500000   6803800.0   \n",
       " 2000-01-13  121.000000  115.750000  119.937500  118.250000   8489700.0   \n",
       " 2000-01-14  123.312500  117.500000  120.937500  119.625000  10956600.0   \n",
       " 2000-01-18  119.750000  115.000000  119.687500  115.750000   7643900.0   \n",
       " 2000-01-19  122.000000  112.687500  115.562500  119.500000   8634500.0   \n",
       " 2000-01-20  124.750000  119.000000  123.000000  119.000000  17783400.0   \n",
       " 2000-01-21  123.000000  119.937500  121.875000  121.500000   7868700.0   \n",
       " 2000-01-24  122.875000  116.562500  121.875000  121.500000   6499200.0   \n",
       " 2000-01-25  119.500000  116.000000  116.750000  119.125000   6936900.0   \n",
       " 2000-01-26  119.937500  116.000000  119.062500  116.750000   4895100.0   \n",
       " 2000-01-27  118.437500  111.625000  118.000000  113.500000   8324600.0   \n",
       " 2000-01-28  114.187500  110.062500  112.750000  111.562500   6669400.0   \n",
       " 2000-01-31  112.812500  109.625000  111.375000  112.250000   6202700.0   \n",
       " 2000-02-01  113.437500  109.125000  112.375000  110.000000   7304700.0   \n",
       " 2000-02-02  115.812500  110.375000  112.000000  113.500000   7707700.0   \n",
       " 2000-02-03  117.500000  114.062500  115.000000  117.125000   6213800.0   \n",
       " 2000-02-04  118.437500  114.812500  118.187500  115.625000   5405300.0   \n",
       " 2000-02-07  116.875000  113.125000  116.000000  114.125000   5779500.0   \n",
       " 2000-02-08  119.000000  116.187500  116.937500  118.812500   5464300.0   \n",
       " 2000-02-09  119.750000  117.000000  119.000000  117.375000   5374700.0   \n",
       " 2000-02-10  119.125000  116.875000  117.687500  119.125000   4446600.0   \n",
       " 2000-02-11  119.437500  114.562500  119.062500  115.375000   5749400.0   \n",
       " ...                ...         ...         ...         ...         ...   \n",
       " 2009-11-18  128.350006  127.550003  128.050003  128.149994   3970100.0   \n",
       " 2009-11-19  127.839996  126.510002  127.279999  127.540001   5308400.0   \n",
       " 2009-11-20  127.690002  126.459999  127.169998  126.959999   5354200.0   \n",
       " 2009-11-23  128.940002  127.650002  127.699997  128.199997   7003500.0   \n",
       " 2009-11-24  128.320007  127.139999  127.900002  127.930000   4816500.0   \n",
       " 2009-11-25  128.220001  127.080002  127.879997  127.279999   3967700.0   \n",
       " 2009-11-27  126.620003  124.260002  124.589996  125.699997   3319200.0   \n",
       " 2009-11-30  126.599998  124.919998  125.120003  126.349998   6302700.0   \n",
       " 2009-12-01  128.389999  126.849998  127.290001  127.940002   6578600.0   \n",
       " 2009-12-02  128.389999  127.160004  127.320000  127.209999   4597900.0   \n",
       " 2009-12-03  128.470001  127.250000  127.599998  127.550003   5760000.0   \n",
       " 2009-12-04  128.899994  126.000000  128.399994  127.250000   7068500.0   \n",
       " 2009-12-07  127.529999  126.589996  126.879997  127.040001   4144400.0   \n",
       " 2009-12-08  127.349998  126.160004  126.970001  126.800003   5351400.0   \n",
       " 2009-12-09  128.389999  126.110001  126.699997  128.389999   6071900.0   \n",
       " 2009-12-10  129.470001  128.089996  128.130005  129.339996   7077800.0   \n",
       " 2009-12-11  129.770004  128.710007  129.009995  129.679993   6597200.0   \n",
       " 2009-12-14  129.979996  129.600006  129.649994  129.929993   5201300.0   \n",
       " 2009-12-15  129.860001  127.940002  129.460007  128.490005   7862600.0   \n",
       " 2009-12-16  129.600006  128.350006  128.740005  128.710007   6372500.0   \n",
       " 2009-12-17  128.559998  127.120003  128.000000  127.400002   5909500.0   \n",
       " 2009-12-18  128.389999  127.000000  127.970001  127.910004   9106600.0   \n",
       " 2009-12-21  128.940002  127.680000  127.800003  128.649994   4772500.0   \n",
       " 2009-12-22  129.979996  129.190002  129.300003  129.929993   5535500.0   \n",
       " 2009-12-23  130.000000  129.300003  129.699997  130.000000   4127600.0   \n",
       " 2009-12-24  130.570007  129.479996  129.889999  130.570007   4265100.0   \n",
       " 2009-12-28  132.309998  130.720001  130.990005  132.309998   5800400.0   \n",
       " 2009-12-29  132.369995  131.800003  132.279999  131.850006   4184200.0   \n",
       " 2009-12-30  132.679993  130.679993  131.229996  132.570007   3867000.0   \n",
       " 2009-12-31  132.850006  130.750000  132.410004  130.899994   4223400.0   \n",
       " \n",
       "              Adj Close  \n",
       " Date                    \n",
       " 1999-12-31   75.415802  \n",
       " 2000-01-03   81.096031  \n",
       " 2000-01-04   78.343300  \n",
       " 2000-01-05   81.096031  \n",
       " 2000-01-06   79.697784  \n",
       " 2000-01-07   79.348267  \n",
       " 2000-01-10   82.494217  \n",
       " 2000-01-11   83.193336  \n",
       " 2000-01-12   83.542885  \n",
       " 2000-01-13   82.668999  \n",
       " 2000-01-14   83.630272  \n",
       " 2000-01-18   80.921211  \n",
       " 2000-01-19   83.542885  \n",
       " 2000-01-20   83.193336  \n",
       " 2000-01-21   84.941071  \n",
       " 2000-01-24   84.941071  \n",
       " 2000-01-25   83.280746  \n",
       " 2000-01-26   81.620346  \n",
       " 2000-01-27   79.348267  \n",
       " 2000-01-28   77.993713  \n",
       " 2000-01-31   78.474335  \n",
       " 2000-02-01   76.901360  \n",
       " 2000-02-02   79.348267  \n",
       " 2000-02-03   81.882484  \n",
       " 2000-02-04   80.833870  \n",
       " 2000-02-07   79.785179  \n",
       " 2000-02-08   83.149666  \n",
       " 2000-02-09   82.143639  \n",
       " 2000-02-10   83.368393  \n",
       " 2000-02-11   80.743973  \n",
       " ...                ...  \n",
       " 2009-11-18   99.602127  \n",
       " 2009-11-19   99.127991  \n",
       " 2009-11-20   98.677231  \n",
       " 2009-11-23   99.640984  \n",
       " 2009-11-24   99.431137  \n",
       " 2009-11-25   98.925941  \n",
       " 2009-11-27   97.697884  \n",
       " 2009-11-30   98.203110  \n",
       " 2009-12-01   99.438919  \n",
       " 2009-12-02   98.871529  \n",
       " 2009-12-03   99.135803  \n",
       " 2009-12-04   98.902603  \n",
       " 2009-12-07   98.739418  \n",
       " 2009-12-08   98.552879  \n",
       " 2009-12-09   99.788651  \n",
       " 2009-12-10  100.527008  \n",
       " 2009-12-11  100.791290  \n",
       " 2009-12-14  100.985580  \n",
       " 2009-12-15   99.866417  \n",
       " 2009-12-16  100.037369  \n",
       " 2009-12-17   99.019203  \n",
       " 2009-12-18   99.415588  \n",
       " 2009-12-21   99.990730  \n",
       " 2009-12-22  100.985580  \n",
       " 2009-12-23  101.039986  \n",
       " 2009-12-24  101.483032  \n",
       " 2009-12-28  102.835388  \n",
       " 2009-12-29  102.477867  \n",
       " 2009-12-30  103.037491  \n",
       " 2009-12-31  101.739494  \n",
       " \n",
       " [2516 rows x 6 columns],\n",
       " 'MSFT':                  High        Low       Open      Close       Volume  Adj Close\n",
       " Date                                                                          \n",
       " 1999-12-31  58.875000  58.125000  58.750000  58.375000   12517600.0  42.546246\n",
       " 2000-01-03  59.312500  56.000000  58.687500  58.281250   53228400.0  42.477909\n",
       " 2000-01-04  58.562500  56.125000  56.781250  56.312500   54119000.0  41.042988\n",
       " 2000-01-05  58.187500  54.687500  55.562500  56.906250   64059600.0  41.475750\n",
       " 2000-01-06  56.937500  54.187500  56.093750  55.000000   54976600.0  40.086391\n",
       " 2000-01-07  56.125000  53.656250  54.312500  55.718750   62013600.0  40.610226\n",
       " 2000-01-10  56.843750  55.687500  56.718750  56.125000   44963600.0  40.906349\n",
       " 2000-01-11  57.125000  54.343750  55.750000  54.687500   46743600.0  39.858616\n",
       " 2000-01-12  54.437500  52.218750  54.250000  52.906250   66532400.0  38.560371\n",
       " 2000-01-13  54.312500  50.750000  52.187500  53.906250   83144000.0  39.289219\n",
       " 2000-01-14  56.968750  52.875000  53.593750  56.125000   73416400.0  40.906349\n",
       " 2000-01-18  58.250000  55.875000  55.906250  57.656250   81483600.0  42.022377\n",
       " 2000-01-19  55.750000  53.000000  55.250000  53.500000   97568200.0  38.993122\n",
       " 2000-01-20  54.843750  52.937500  53.531250  53.000000   56349800.0  38.628693\n",
       " 2000-01-21  53.625000  51.625000  53.500000  51.875000   68416200.0  37.808743\n",
       " 2000-01-24  52.843750  50.406250  51.898399  50.625000   63597600.0  36.897697\n",
       " 2000-01-25  51.937500  49.781250  50.500000  51.406250   59823200.0  37.467098\n",
       " 2000-01-26  51.750000  49.562500  51.218750  49.687500   49365000.0  36.214397\n",
       " 2000-01-27  50.593750  48.625000  49.945301  49.375000   63654800.0  35.986629\n",
       " 2000-01-28  50.125000  48.625000  49.062500  49.125000   58225400.0  35.804432\n",
       " 2000-01-31  49.093750  47.437500  48.812500  48.937500   73194200.0  35.667759\n",
       " 2000-02-01  51.625000  48.843750  49.250000  51.468750   70196600.0  37.512646\n",
       " 2000-02-02  51.968750  50.250000  51.218750  50.406250   49915600.0  36.738262\n",
       " 2000-02-03  52.093750  50.062500  51.031250  51.812500   49186000.0  37.763184\n",
       " 2000-02-04  54.000000  52.070301  52.187500  53.281250   55365400.0  38.833683\n",
       " 2000-02-07  53.437500  52.125000  53.406250  53.312500   40005800.0  38.856445\n",
       " 2000-02-08  55.000000  53.218750  53.218750  54.968750   56229000.0  40.063602\n",
       " 2000-02-09  54.718750  51.937500  54.718750  52.000000   55090000.0  37.899837\n",
       " 2000-02-10  53.281250  51.250000  51.945301  53.000000   54527800.0  38.628693\n",
       " 2000-02-11  52.437500  49.562500  52.437500  49.968750  115559000.0  36.419380\n",
       " ...               ...        ...        ...        ...          ...        ...\n",
       " 2009-11-18  30.139999  29.809999  30.000000  30.110001   59431200.0  24.153883\n",
       " 2009-11-19  30.000000  29.700001  29.990000  29.780001   51967700.0  23.889158\n",
       " 2009-11-20  29.770000  29.430000  29.660000  29.620001   42647100.0  23.760811\n",
       " 2009-11-23  30.010000  29.700001  29.840000  29.940001   41832700.0  24.017511\n",
       " 2009-11-24  29.990000  29.750000  29.950001  29.910000   37341400.0  23.993446\n",
       " 2009-11-25  29.860001  29.580000  29.809999  29.790001   32033500.0  23.897186\n",
       " 2009-11-27  29.389999  28.750000  29.110001  29.219999   29357900.0  23.439934\n",
       " 2009-11-30  29.450001  29.000000  29.150000  29.410000   44172000.0  23.592350\n",
       " 2009-12-01  30.049999  29.410000  29.520000  30.010000   49904200.0  24.073666\n",
       " 2009-12-02  29.990000  29.650000  29.900000  29.780001   36308600.0  23.889158\n",
       " 2009-12-03  30.200001  29.760000  29.840000  29.830000   43095200.0  23.929268\n",
       " 2009-12-04  30.370001  29.830000  30.049999  29.980000   58810700.0  24.049608\n",
       " 2009-12-07  30.080000  29.680000  29.780001  29.790001   38082700.0  23.897186\n",
       " 2009-12-08  29.740000  29.379999  29.520000  29.570000   37402200.0  23.720703\n",
       " 2009-12-09  29.809999  29.250000  29.469999  29.709999   44713300.0  23.833004\n",
       " 2009-12-10  29.959999  29.660000  29.709999  29.870001   45940200.0  23.961359\n",
       " 2009-12-11  30.000000  29.790001  29.969999  29.850000   43744200.0  23.945312\n",
       " 2009-12-14  30.160000  29.900000  29.910000  30.110001   34651200.0  24.153883\n",
       " 2009-12-15  30.209999  29.879999  29.889999  30.020000   49473200.0  24.081684\n",
       " 2009-12-16  30.410000  30.040001  30.070000  30.100000   55737800.0  24.145863\n",
       " 2009-12-17  29.959999  29.570000  29.950001  29.600000   43691200.0  23.744768\n",
       " 2009-12-18  30.450001  29.799999  29.840000  30.360001   94118000.0  24.354429\n",
       " 2009-12-21  30.840000  30.370001  30.400000  30.520000   40129100.0  24.482784\n",
       " 2009-12-22  30.930000  30.540001  30.600000  30.820000   36321000.0  24.723440\n",
       " 2009-12-23  30.950001  30.690001  30.709999  30.920000   28362700.0  24.803658\n",
       " 2009-12-24  31.000000  30.760000  30.879999  31.000000   11083900.0  24.867828\n",
       " 2009-12-28  31.180000  30.889999  31.000000  31.170000   25384000.0  25.004194\n",
       " 2009-12-29  31.500000  31.230000  31.350000  31.389999   29716200.0  25.180681\n",
       " 2009-12-30  31.290001  30.799999  31.150000  30.959999   42006200.0  24.835745\n",
       " 2009-12-31  30.990000  30.480000  30.980000  30.480000   31929700.0  24.450689\n",
       " \n",
       " [2516 rows x 6 columns]}"
      ]
     },
     "execution_count": 81,
     "metadata": {},
     "output_type": "execute_result"
    }
   ],
   "source": [
    "all_data"
   ]
  },
  {
   "cell_type": "code",
   "execution_count": 82,
   "metadata": {},
   "outputs": [],
   "source": [
    "returns = price.pct_change()"
   ]
  },
  {
   "cell_type": "code",
   "execution_count": 85,
   "metadata": {},
   "outputs": [
    {
     "data": {
      "text/html": [
       "<div>\n",
       "<style scoped>\n",
       "    .dataframe tbody tr th:only-of-type {\n",
       "        vertical-align: middle;\n",
       "    }\n",
       "\n",
       "    .dataframe tbody tr th {\n",
       "        vertical-align: top;\n",
       "    }\n",
       "\n",
       "    .dataframe thead th {\n",
       "        text-align: right;\n",
       "    }\n",
       "</style>\n",
       "<table border=\"1\" class=\"dataframe\">\n",
       "  <thead>\n",
       "    <tr style=\"text-align: right;\">\n",
       "      <th></th>\n",
       "      <th>AAPL</th>\n",
       "      <th>IBM</th>\n",
       "      <th>MSFT</th>\n",
       "      <th>GOOG</th>\n",
       "    </tr>\n",
       "  </thead>\n",
       "  <tbody>\n",
       "    <tr>\n",
       "      <th>AAPL</th>\n",
       "      <td>1.000000</td>\n",
       "      <td>0.412392</td>\n",
       "      <td>0.422852</td>\n",
       "      <td>0.470676</td>\n",
       "    </tr>\n",
       "    <tr>\n",
       "      <th>IBM</th>\n",
       "      <td>0.412392</td>\n",
       "      <td>1.000000</td>\n",
       "      <td>0.492537</td>\n",
       "      <td>0.390689</td>\n",
       "    </tr>\n",
       "    <tr>\n",
       "      <th>MSFT</th>\n",
       "      <td>0.422852</td>\n",
       "      <td>0.492537</td>\n",
       "      <td>1.000000</td>\n",
       "      <td>0.438313</td>\n",
       "    </tr>\n",
       "    <tr>\n",
       "      <th>GOOG</th>\n",
       "      <td>0.470676</td>\n",
       "      <td>0.390689</td>\n",
       "      <td>0.438313</td>\n",
       "      <td>1.000000</td>\n",
       "    </tr>\n",
       "  </tbody>\n",
       "</table>\n",
       "</div>"
      ],
      "text/plain": [
       "          AAPL       IBM      MSFT      GOOG\n",
       "AAPL  1.000000  0.412392  0.422852  0.470676\n",
       "IBM   0.412392  1.000000  0.492537  0.390689\n",
       "MSFT  0.422852  0.492537  1.000000  0.438313\n",
       "GOOG  0.470676  0.390689  0.438313  1.000000"
      ]
     },
     "execution_count": 85,
     "metadata": {},
     "output_type": "execute_result"
    }
   ],
   "source": [
    "returns.corr()"
   ]
  },
  {
   "cell_type": "code",
   "execution_count": 86,
   "metadata": {},
   "outputs": [
    {
     "data": {
      "text/html": [
       "<div>\n",
       "<style scoped>\n",
       "    .dataframe tbody tr th:only-of-type {\n",
       "        vertical-align: middle;\n",
       "    }\n",
       "\n",
       "    .dataframe tbody tr th {\n",
       "        vertical-align: top;\n",
       "    }\n",
       "\n",
       "    .dataframe thead th {\n",
       "        text-align: right;\n",
       "    }\n",
       "</style>\n",
       "<table border=\"1\" class=\"dataframe\">\n",
       "  <thead>\n",
       "    <tr style=\"text-align: right;\">\n",
       "      <th></th>\n",
       "      <th>AAPL</th>\n",
       "      <th>IBM</th>\n",
       "      <th>MSFT</th>\n",
       "      <th>GOOG</th>\n",
       "    </tr>\n",
       "  </thead>\n",
       "  <tbody>\n",
       "    <tr>\n",
       "      <th>AAPL</th>\n",
       "      <td>0.001030</td>\n",
       "      <td>0.000254</td>\n",
       "      <td>0.000309</td>\n",
       "      <td>0.000303</td>\n",
       "    </tr>\n",
       "    <tr>\n",
       "      <th>IBM</th>\n",
       "      <td>0.000254</td>\n",
       "      <td>0.000369</td>\n",
       "      <td>0.000216</td>\n",
       "      <td>0.000142</td>\n",
       "    </tr>\n",
       "    <tr>\n",
       "      <th>MSFT</th>\n",
       "      <td>0.000309</td>\n",
       "      <td>0.000216</td>\n",
       "      <td>0.000519</td>\n",
       "      <td>0.000204</td>\n",
       "    </tr>\n",
       "    <tr>\n",
       "      <th>GOOG</th>\n",
       "      <td>0.000303</td>\n",
       "      <td>0.000142</td>\n",
       "      <td>0.000204</td>\n",
       "      <td>0.000580</td>\n",
       "    </tr>\n",
       "  </tbody>\n",
       "</table>\n",
       "</div>"
      ],
      "text/plain": [
       "          AAPL       IBM      MSFT      GOOG\n",
       "AAPL  0.001030  0.000254  0.000309  0.000303\n",
       "IBM   0.000254  0.000369  0.000216  0.000142\n",
       "MSFT  0.000309  0.000216  0.000519  0.000204\n",
       "GOOG  0.000303  0.000142  0.000204  0.000580"
      ]
     },
     "execution_count": 86,
     "metadata": {},
     "output_type": "execute_result"
    }
   ],
   "source": [
    "returns.cov()"
   ]
  },
  {
   "cell_type": "code",
   "execution_count": null,
   "metadata": {},
   "outputs": [],
   "source": []
  }
 ],
 "metadata": {
  "kernelspec": {
   "display_name": "Python 3",
   "language": "python",
   "name": "python3"
  },
  "language_info": {
   "codemirror_mode": {
    "name": "ipython",
    "version": 3
   },
   "file_extension": ".py",
   "mimetype": "text/x-python",
   "name": "python",
   "nbconvert_exporter": "python",
   "pygments_lexer": "ipython3",
   "version": "3.6.5"
  }
 },
 "nbformat": 4,
 "nbformat_minor": 2
}
